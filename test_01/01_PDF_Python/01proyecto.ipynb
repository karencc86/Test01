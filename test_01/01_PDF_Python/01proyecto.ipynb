{
 "cells": [
  {
   "cell_type": "markdown",
   "id": "49d332ae",
   "metadata": {},
   "source": [
    "# Proyect 01\n",
    "\n",
    "## Displaying information to the userv\n",
    "\n",
    "Comando print ()"
   ]
  },
  {
   "cell_type": "code",
   "execution_count": null,
   "id": "933988e7",
   "metadata": {},
   "outputs": [
    {
     "name": "stdout",
     "output_type": "stream",
     "text": [
      "Semana de Python en la práctica\n",
      "Hola Py, soy Karen\n"
     ]
    }
   ],
   "source": [
    "print (\"Python week in practice\")"
   ]
  },
  {
   "cell_type": "markdown",
   "id": "cc2aebff",
   "metadata": {},
   "source": [
    "## Receive user data\n",
    "\n",
    "Comando input"
   ]
  },
  {
   "cell_type": "code",
   "execution_count": null,
   "id": "d6e85bd0",
   "metadata": {},
   "outputs": [
    {
     "data": {
      "text/plain": [
       "'Pyhton'"
      ]
     },
     "execution_count": 4,
     "metadata": {},
     "output_type": "execute_result"
    }
   ],
   "source": [
    "input(\"Enter your name: \")\n",
    "input(\"What is the best programming language in the world? \")"
   ]
  },
  {
   "cell_type": "markdown",
   "id": "086625d4",
   "metadata": {},
   "source": [
    "## Storing data in variables"
   ]
  },
  {
   "cell_type": "code",
   "execution_count": 7,
   "id": "5429cd40",
   "metadata": {},
   "outputs": [],
   "source": [
    "proyecto = \"Mi primer proyecto con Python\"\n",
    "numero = 10"
   ]
  },
  {
   "cell_type": "code",
   "execution_count": 10,
   "id": "75e24300",
   "metadata": {},
   "outputs": [
    {
     "data": {
      "text/plain": [
       "10"
      ]
     },
     "execution_count": 10,
     "metadata": {},
     "output_type": "execute_result"
    }
   ],
   "source": [
    "numero"
   ]
  },
  {
   "cell_type": "markdown",
   "id": "0ba164d3",
   "metadata": {},
   "source": [
    "## Mixing all the concepts learned"
   ]
  },
  {
   "cell_type": "code",
   "execution_count": 16,
   "id": "3dbb2dc1",
   "metadata": {},
   "outputs": [],
   "source": [
    "proyecto = input (\"Digita la descripción del proyecto: \")\n",
    "horas_estimadas = input (\" Digita la cantidad de horas estimadas: \")\n",
    "valor_hora = input (\"Digita el valor de la hora trabajada: \")\n",
    "tiempo_estimado = input (\"Digita el plazo estimado: \")"
   ]
  },
  {
   "cell_type": "code",
   "execution_count": 17,
   "id": "8beeebdc",
   "metadata": {},
   "outputs": [
    {
     "name": "stdout",
     "output_type": "stream",
     "text": [
      "Mi primer proyecto con Python\n",
      "120\n",
      "90\n",
      "2 meses\n"
     ]
    }
   ],
   "source": [
    "print(proyecto)\n",
    "print(horas_estimadas)\n",
    "print(valor_hora)\n",
    "print(tiempo_estimado)"
   ]
  },
  {
   "cell_type": "markdown",
   "id": "e1add7ec",
   "metadata": {},
   "source": [
    "## Calculations with Python"
   ]
  },
  {
   "cell_type": "markdown",
   "id": "7cbf6faf",
   "metadata": {},
   "source": [
    "## Calculating the total value of the project"
   ]
  },
  {
   "cell_type": "code",
   "execution_count": 22,
   "id": "78399791",
   "metadata": {},
   "outputs": [],
   "source": [
    "valor_total = int(horas_estimadas) * int(valor_hora)"
   ]
  },
  {
   "cell_type": "code",
   "execution_count": 23,
   "id": "4e8878d5",
   "metadata": {},
   "outputs": [
    {
     "data": {
      "text/plain": [
       "10800"
      ]
     },
     "execution_count": 23,
     "metadata": {},
     "output_type": "execute_result"
    }
   ],
   "source": [
    "valor_total"
   ]
  },
  {
   "cell_type": "markdown",
   "id": "7e3c05e4",
   "metadata": {},
   "source": [
    "## Generating budget PDF file"
   ]
  },
  {
   "cell_type": "code",
   "execution_count": 24,
   "id": "0439fd57",
   "metadata": {},
   "outputs": [
    {
     "name": "stdout",
     "output_type": "stream",
     "text": [
      "Collecting fpdf\n",
      "  Downloading fpdf-1.7.2.tar.gz (39 kB)\n",
      "  Preparing metadata (setup.py): started\n",
      "  Preparing metadata (setup.py): finished with status 'done'\n",
      "Building wheels for collected packages: fpdf\n",
      "  Building wheel for fpdf (setup.py): started\n",
      "  Building wheel for fpdf (setup.py): finished with status 'done'\n",
      "  Created wheel for fpdf: filename=fpdf-1.7.2-py2.py3-none-any.whl size=40713 sha256=e34977fa1a442bb3e5a878670107aa2f0ccfc44ecc9cb1a8ee97a79a4e5332f5\n",
      "  Stored in directory: c:\\users\\usuario\\appdata\\local\\pip\\cache\\wheels\\6e\\62\\11\\dc73d78e40a218ad52e7451f30166e94491be013a7850b5d75\n",
      "Successfully built fpdf\n",
      "Installing collected packages: fpdf\n",
      "Successfully installed fpdf-1.7.2\n"
     ]
    },
    {
     "name": "stderr",
     "output_type": "stream",
     "text": [
      "\n",
      "[notice] A new release of pip is available: 24.2 -> 25.1.1\n",
      "[notice] To update, run: python.exe -m pip install --upgrade pip\n"
     ]
    }
   ],
   "source": [
    "! pip install fpdf"
   ]
  },
  {
   "cell_type": "code",
   "execution_count": 26,
   "id": "620d6fb9",
   "metadata": {},
   "outputs": [],
   "source": [
    "from fpdf import FPDF"
   ]
  },
  {
   "cell_type": "code",
   "execution_count": 30,
   "id": "454bfbcd",
   "metadata": {},
   "outputs": [
    {
     "name": "stdout",
     "output_type": "stream",
     "text": [
      "Presupuesto generado con éxito!!!\n"
     ]
    },
    {
     "name": "stderr",
     "output_type": "stream",
     "text": [
      "C:\\Users\\Usuario\\AppData\\Local\\Temp\\ipykernel_12336\\1908985372.py:4: DeprecationWarning: Substituting font arial by core font helvetica - This is deprecated since v2.7.8, and will soon be removed\n",
      "  pdf.set_font(\"Arial\") # configurar tipo de letra\n"
     ]
    }
   ],
   "source": [
    "pdf = FPDF ()\n",
    "\n",
    "pdf.add_page()\n",
    "pdf.set_font(\"Arial\") # configurar tipo de letra\n",
    "\n",
    "pdf.image(\"Template.png\", 0, 0)\n",
    "\n",
    "pdf.text(115, 145, proyecto) # ubicar las coordenadas de la hoja\n",
    "pdf.text(115, 160, horas_estimadas)\n",
    "pdf.text(115, 175, valor_hora)\n",
    "pdf.text(115, 190, tiempo_estimado)\n",
    "pdf.text(115, 205, str(valor_hora))\n",
    "\n",
    "pdf.output(\"presupuesto.pdf\")\n",
    "print(\"Presupuesto generado con éxito!!!\")\n"
   ]
  }
 ],
 "metadata": {
  "kernelspec": {
   "display_name": "Python 3",
   "language": "python",
   "name": "python3"
  },
  "language_info": {
   "codemirror_mode": {
    "name": "ipython",
    "version": 3
   },
   "file_extension": ".py",
   "mimetype": "text/x-python",
   "name": "python",
   "nbconvert_exporter": "python",
   "pygments_lexer": "ipython3",
   "version": "3.12.7"
  }
 },
 "nbformat": 4,
 "nbformat_minor": 5
}
